{
 "cells": [
  {
   "cell_type": "markdown",
   "metadata": {},
   "source": [
    "# Explore U.S Births"
   ]
  },
  {
   "cell_type": "markdown",
   "metadata": {},
   "source": [
    "In this project, we're going to explore U.S. Births using this [dataset](https://raw.githubusercontent.com/fivethirtyeight/data/master/births/US_births_1994-2003_CDC_NCHS.csv) compiled by FiveThirtyEight.\n",
    "\n",
    "This dataset contains the following column:\n",
    "* **year**: Year (1994 to 2003).\n",
    "* **month**: Month (1 to 12).\n",
    "* **date_of_month**: Day number of the month (1 to 31).\n",
    "* **day_of_week**: Day of week (1 to 7).\n",
    "* **births**: Number of births that day.\n",
    "\n",
    "## First things first, let's read the dataset in the CSV file and explore it:"
   ]
  },
  {
   "cell_type": "code",
   "execution_count": 6,
   "metadata": {
    "collapsed": false
   },
   "outputs": [
    {
     "data": {
      "text/plain": [
       "['1994,1,1,6,8096',\n",
       " '1994,1,2,7,7772',\n",
       " '1994,1,3,1,10142',\n",
       " '1994,1,4,2,11248',\n",
       " '1994,1,5,3,11053']"
      ]
     },
     "execution_count": 6,
     "metadata": {},
     "output_type": "execute_result"
    }
   ],
   "source": [
    "f = open(r\"US_births_1994-2003.csv\", 'r')\n",
    "data = f.read().split('\\n')\n",
    "string_list = data[1:len(data)]\n",
    "string_list[:5]"
   ]
  },
  {
   "cell_type": "markdown",
   "metadata": {},
   "source": [
    "## Converting data into a list of lists:"
   ]
  },
  {
   "cell_type": "markdown",
   "metadata": {},
   "source": [
    "While a list of strings helps us get a general picture of the dataset, we need to convert it to a more structured format to be able to analyze it. Specifically, we need to convert the dataset into a list of lists where each nested list contains integer values (not strings). We also need to remove the header row.\n",
    "\n",
    "Here's what we want the data to look like:\n",
    "\n",
    "```python\n",
    "[ \n",
    "  [1994, 1, 1, 6, 8096],\n",
    "  [1994, 1, 2, 7, 7772],\n",
    "  [1994, 1, 3, 1, 10142],\n",
    "  [1994, 1, 4, 2, 11248],\n",
    "  [1994, 1, 5, 3, 11053],\n",
    "...\n",
    "]\n",
    "```"
   ]
  },
  {
   "cell_type": "code",
   "execution_count": 7,
   "metadata": {
    "collapsed": false
   },
   "outputs": [],
   "source": [
    "string_fields = []\n",
    "for string in string_list:\n",
    "    split_string = string.split(',')\n",
    "    string_fields.append(split_string)\n",
    "int_fields = []\n",
    "for row in string_fields:\n",
    "    first = int(row[0])\n",
    "    second = int(row[1])\n",
    "    third = int(row[2])\n",
    "    forth = int(row[3])\n",
    "    fifth = int(row[4])\n",
    "    new_list = [first, second, third, forth, fifth]\n",
    "    int_fields.append(new_list)"
   ]
  },
  {
   "cell_type": "markdown",
   "metadata": {},
   "source": [
    "## Create a function that reads a csv file and turn it into a list of lists:"
   ]
  },
  {
   "cell_type": "code",
   "execution_count": 8,
   "metadata": {
    "collapsed": true
   },
   "outputs": [],
   "source": [
    "def read_csv(text_file):\n",
    "    f = open(text_file, \"r\")\n",
    "    data = f.read().split('\\n')\n",
    "    string_list = data[1:len(data)]\n",
    "    string_fields = []\n",
    "    for string in string_list:\n",
    "        split_string = string.split(',')\n",
    "        string_fields.append(split_string)\n",
    "    int_fields = []\n",
    "    for row in string_fields:\n",
    "        first = int(row[0])\n",
    "        second = int(row[1])\n",
    "        third = int(row[2])\n",
    "        forth = int(row[3])\n",
    "        fifth = int(row[4])\n",
    "        new_list = [first, second, third, forth, fifth]\n",
    "        int_fields.append(new_list)\n",
    "    final_data = int_fields\n",
    "    return(final_data)"
   ]
  },
  {
   "cell_type": "markdown",
   "metadata": {},
   "source": [
    "### Calculating number of births each time:"
   ]
  },
  {
   "cell_type": "markdown",
   "metadata": {},
   "source": [
    "Now that the data is in a more usable format, we can start to analyze it. Let's calculate the total number of births that occured in each month, across all of the years in the dataset. We'll create a dictionary where each key is a unique month and each value is the number of births that happened in that month, across all years:\n",
    "\n",
    "```python\n",
    "{  \n",
    "   1: 3232517,\n",
    "   2: 3018140,\n",
    "   3: 3322069,\n",
    "   4: 3185314,\n",
    "   5: 3350907,\n",
    "   6: 3296530,\n",
    "   7: 3498783,\n",
    "   8: 3525858,\n",
    "   9: 3439698,\n",
    "   10: 3378814,\n",
    "   11: 3171647,\n",
    "   12: 3301860\n",
    "}\n",
    "```"
   ]
  },
  {
   "cell_type": "code",
   "execution_count": 24,
   "metadata": {
    "collapsed": false
   },
   "outputs": [
    {
     "data": {
      "text/plain": [
       "{1994: 3952767,\n",
       " 1995: 3899589,\n",
       " 1996: 3891494,\n",
       " 1997: 3880894,\n",
       " 1998: 3941553,\n",
       " 1999: 3959417,\n",
       " 2000: 4058814,\n",
       " 2001: 4025933,\n",
       " 2002: 4021726,\n",
       " 2003: 4089950}"
      ]
     },
     "execution_count": 24,
     "metadata": {},
     "output_type": "execute_result"
    }
   ],
   "source": [
    "def year_birth(text_file):\n",
    "    cdc_list = read_csv(text_file)\n",
    "    births_per_year = {}\n",
    "    for row in cdc_list:\n",
    "        if row[0] not in births_per_year:\n",
    "            births_per_year[row[0]] = row[4]\n",
    "        else:\n",
    "            births_per_year[row[0]] = births_per_year[row[0]] + row[4]\n",
    "    return(births_per_year)\n",
    "\n",
    "year_birth(r\"US_births_1994-2003.csv\")"
   ]
  },
  {
   "cell_type": "code",
   "execution_count": 25,
   "metadata": {
    "collapsed": false
   },
   "outputs": [
    {
     "data": {
      "text/plain": [
       "{1: 3232517,\n",
       " 2: 3018140,\n",
       " 3: 3322069,\n",
       " 4: 3185314,\n",
       " 5: 3350907,\n",
       " 6: 3296530,\n",
       " 7: 3498783,\n",
       " 8: 3525858,\n",
       " 9: 3439698,\n",
       " 10: 3378814,\n",
       " 11: 3171647,\n",
       " 12: 3301860}"
      ]
     },
     "execution_count": 25,
     "metadata": {},
     "output_type": "execute_result"
    }
   ],
   "source": [
    "def month_birth(text_file):\n",
    "    cdc_list = read_csv(text_file)\n",
    "    births_per_month = {}\n",
    "    for row in cdc_list:\n",
    "        if row[1] not in births_per_month:\n",
    "            births_per_month[row[1]] = row[4]\n",
    "        else:\n",
    "            births_per_month[row[1]] = births_per_month[row[1]] + row[4]\n",
    "    return(births_per_month)\n",
    "\n",
    "month_birth(r\"US_births_1994-2003.csv\")"
   ]
  },
  {
   "cell_type": "markdown",
   "metadata": {},
   "source": [
    "Let's now create a function that calculates the total number of births for each unique day of the week. Here's what we want the dictionary to look like:\n",
    "\n",
    "```python\n",
    "{\n",
    "  1: 5789166,\n",
    "  2: 6446196,\n",
    "  3: 6322855,\n",
    "  4: 6288429,\n",
    "  5: 6233657,\n",
    "  6: 4562111,\n",
    "  7: 4079723\n",
    "}\n",
    "```"
   ]
  },
  {
   "cell_type": "code",
   "execution_count": 26,
   "metadata": {
    "collapsed": false
   },
   "outputs": [
    {
     "data": {
      "text/plain": [
       "{1: 1276557,\n",
       " 2: 1288739,\n",
       " 3: 1304499,\n",
       " 4: 1288154,\n",
       " 5: 1299953,\n",
       " 6: 1304474,\n",
       " 7: 1310459,\n",
       " 8: 1312297,\n",
       " 9: 1303292,\n",
       " 10: 1320764,\n",
       " 11: 1314361,\n",
       " 12: 1318437,\n",
       " 13: 1277684,\n",
       " 14: 1320153,\n",
       " 15: 1319171,\n",
       " 16: 1315192,\n",
       " 17: 1324953,\n",
       " 18: 1326855,\n",
       " 19: 1318727,\n",
       " 20: 1324821,\n",
       " 21: 1322897,\n",
       " 22: 1317381,\n",
       " 23: 1293290,\n",
       " 24: 1288083,\n",
       " 25: 1272116,\n",
       " 26: 1284796,\n",
       " 27: 1294395,\n",
       " 28: 1307685,\n",
       " 29: 1223161,\n",
       " 30: 1202095,\n",
       " 31: 746696}"
      ]
     },
     "execution_count": 26,
     "metadata": {},
     "output_type": "execute_result"
    }
   ],
   "source": [
    "def day_birth(text_file):\n",
    "    cdc_list = read_csv(text_file)\n",
    "    births_per_day = {}\n",
    "    for row in cdc_list:\n",
    "        if row[2] not in births_per_day:\n",
    "            births_per_day[row[2]] = row[4]\n",
    "        else:\n",
    "            births_per_day[row[2]] = births_per_day[row[2]] + row[4]\n",
    "    return(births_per_day)\n",
    "\n",
    "day_birth(r\"US_births_1994-2003.csv\")"
   ]
  },
  {
   "cell_type": "code",
   "execution_count": 27,
   "metadata": {
    "collapsed": false
   },
   "outputs": [
    {
     "data": {
      "text/plain": [
       "{1: 5789166,\n",
       " 2: 6446196,\n",
       " 3: 6322855,\n",
       " 4: 6288429,\n",
       " 5: 6233657,\n",
       " 6: 4562111,\n",
       " 7: 4079723}"
      ]
     },
     "execution_count": 27,
     "metadata": {},
     "output_type": "execute_result"
    }
   ],
   "source": [
    "def week_birth(text_file):\n",
    "    cdc_list = read_csv(text_file)\n",
    "    births_per_week = {}\n",
    "    for row in cdc_list:\n",
    "        if row[3] not in births_per_week:\n",
    "            births_per_week[row[3]] = row[4]\n",
    "        else:\n",
    "            births_per_week[row[3]] = births_per_week[row[3]] + row[4]\n",
    "    return(births_per_week)\n",
    "\n",
    "week_birth(r\"US_births_1994-2003.csv\")"
   ]
  },
  {
   "cell_type": "markdown",
   "metadata": {},
   "source": [
    "### Calculating number of births with a more general function:"
   ]
  },
  {
   "cell_type": "markdown",
   "metadata": {},
   "source": [
    "You may have noticed that there was a lot of similarity between the two functions you just wrote. While we can also create separate functions to calculate the totals for the year and date_of_month columns, it's better to create a single function that works for any column and specify the column we want as a parameter each time we call the function."
   ]
  },
  {
   "cell_type": "code",
   "execution_count": 13,
   "metadata": {
    "collapsed": true
   },
   "outputs": [],
   "source": [
    "def calc_counts(text_file, column):\n",
    "    cdc_list = read_csv(text_file)\n",
    "    births_per_column = {}\n",
    "    for row in cdc_list:\n",
    "        if row[column - 1] not in births_per_column:\n",
    "            births_per_column[row[column - 1]] = row[4]\n",
    "        else:\n",
    "            births_per_column[row[column - 1]] = births_per_column[row[column - 1]] + row[4]\n",
    "    return(births_per_column)"
   ]
  },
  {
   "cell_type": "code",
   "execution_count": 28,
   "metadata": {
    "collapsed": false
   },
   "outputs": [
    {
     "data": {
      "text/plain": [
       "{1994: 3952767,\n",
       " 1995: 3899589,\n",
       " 1996: 3891494,\n",
       " 1997: 3880894,\n",
       " 1998: 3941553,\n",
       " 1999: 3959417,\n",
       " 2000: 4058814,\n",
       " 2001: 4025933,\n",
       " 2002: 4021726,\n",
       " 2003: 4089950}"
      ]
     },
     "execution_count": 28,
     "metadata": {},
     "output_type": "execute_result"
    }
   ],
   "source": [
    "calc_counts(r\"US_births_1994-2003.csv\", 1)"
   ]
  },
  {
   "cell_type": "markdown",
   "metadata": {},
   "source": [
    "### Calculating minimum and maximum number of births each time:"
   ]
  },
  {
   "cell_type": "code",
   "execution_count": 19,
   "metadata": {
    "collapsed": true
   },
   "outputs": [],
   "source": [
    "def max_counts(text_file, column):\n",
    "    counts = calc_counts(text_file, column)\n",
    "    max = 0\n",
    "    for i in counts:\n",
    "        if counts[i] > max:\n",
    "            max = counts[i]\n",
    "            i += 1\n",
    "    return(max)"
   ]
  },
  {
   "cell_type": "code",
   "execution_count": 20,
   "metadata": {
    "collapsed": true
   },
   "outputs": [],
   "source": [
    "def min_counts(text_file, column):\n",
    "    counts = calc_counts(text_file, column)\n",
    "    min = 10000000\n",
    "    for i in counts:\n",
    "        if counts[i] < min:\n",
    "            min = counts[i]\n",
    "            i += 1\n",
    "    return(min)"
   ]
  },
  {
   "cell_type": "code",
   "execution_count": 29,
   "metadata": {
    "collapsed": false
   },
   "outputs": [
    {
     "data": {
      "text/plain": [
       "4089950"
      ]
     },
     "execution_count": 29,
     "metadata": {},
     "output_type": "execute_result"
    }
   ],
   "source": [
    "max_counts(r\"US_births_1994-2003.csv\", 1)"
   ]
  },
  {
   "cell_type": "code",
   "execution_count": 31,
   "metadata": {
    "collapsed": false
   },
   "outputs": [
    {
     "data": {
      "text/plain": [
       "3880894"
      ]
     },
     "execution_count": 31,
     "metadata": {},
     "output_type": "execute_result"
    }
   ],
   "source": [
    "min_counts(r\"US_births_1994-2003.csv\", 1)"
   ]
  },
  {
   "cell_type": "markdown",
   "metadata": {},
   "source": [
    "## Next Steps\n",
    "\n",
    "- Write a function that can calculate the min and max values for any dictionary that's passed in.\n",
    "- Write a function that extracts the same values across years and calculates the differences between consecutive values to show if number of births is increasing or decreasing.\n",
    " - For example, how did the number of births on Saturday change each year between 1994 and 2003?\n",
    "- Find a way to combine the CDC data with the SSA data, which you can find here. Specifically, brainstorm ways to deal with the overlapping time periods in the datasets."
   ]
  }
 ],
 "metadata": {
  "anaconda-cloud": {},
  "kernelspec": {
   "display_name": "Python 3",
   "language": "python",
   "name": "python3"
  },
  "language_info": {
   "codemirror_mode": {
    "name": "ipython",
    "version": 3
   },
   "file_extension": ".py",
   "mimetype": "text/x-python",
   "name": "python",
   "nbconvert_exporter": "python",
   "pygments_lexer": "ipython3",
   "version": "3.6.0"
  }
 },
 "nbformat": 4,
 "nbformat_minor": 1
}
